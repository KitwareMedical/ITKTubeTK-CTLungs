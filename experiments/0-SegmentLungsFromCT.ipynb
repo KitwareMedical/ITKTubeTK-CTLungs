{
 "cells": [
  {
   "cell_type": "markdown",
   "metadata": {},
   "source": [
    "This notebook is intended to demonstrate how select registration, segmentation, and image mathematical methods of ITKTubeTK can be combined to perform multi-channel brain extraction (aka. skull stripping for patient data containing multiple MRI sequences).\n",
    "\n",
    "There are many other (probably more effective) brain extraction methods available as open-source software such as BET and BET2 in the FSL package (albeit such methods are only for single channel data).   If you need to perform brain extraction for a large collection of scans that do not contain major pathologies, please use one of those packages.   This notebook is meant to show off the capabilities of specific ITKTubeTK methods, not to demonstration how to \"solve\" brain extraction."
   ]
  },
  {
   "cell_type": "code",
   "execution_count": 1,
   "metadata": {},
   "outputs": [],
   "source": [
    "import itk\n",
    "from itk import TubeTK as tube\n",
    "\n",
    "from itkwidgets import view\n",
    "\n",
    "import numpy as np\n",
    "import time"
   ]
  },
  {
   "cell_type": "code",
   "execution_count": 2,
   "metadata": {},
   "outputs": [],
   "source": [
    "ImageType = itk.Image[itk.F, 3]\n",
    "\n",
    "InputBaseName = \"../data/CT/CT\"\n",
    "OutputBaseName = \"results/CT\""
   ]
  },
  {
   "cell_type": "code",
   "execution_count": 3,
   "metadata": {},
   "outputs": [],
   "source": [
    "im1 = itk.imread(InputBaseName + \".nii\", itk.F)"
   ]
  },
  {
   "cell_type": "code",
   "execution_count": 4,
   "metadata": {},
   "outputs": [
    {
     "name": "stderr",
     "output_type": "stream",
     "text": [
      "itkImageF4 not loaded from module TubeTK because of exception:\n",
      " module 'itk.TubeTKPython' has no attribute 'itkImageF4'\n",
      "vectoritkImageF4 not loaded from module TubeTK because of exception:\n",
      " module 'itk.TubeTKPython' has no attribute 'vectoritkImageF4'\n"
     ]
    }
   ],
   "source": [
    "resamp = tube.ResampleImage[ImageType].New(Input = im1)\n",
    "resamp.SetMakeIsotropic(True)\n",
    "resamp.Update()\n",
    "im1Iso = resamp.GetOutput()"
   ]
  },
  {
   "cell_type": "code",
   "execution_count": 5,
   "metadata": {
    "scrolled": false
   },
   "outputs": [],
   "source": [
    "itk.imwrite(im1Iso, OutputBaseName + \"-Iso.mha\")"
   ]
  },
  {
   "cell_type": "code",
   "execution_count": 6,
   "metadata": {},
   "outputs": [],
   "source": [
    "ImageMath = tube.ImageMath.New(im1Iso)\n",
    "ImageMath.ConnectedComponents(-1024,-900,1,0,0,0)\n",
    "ImageMath.Dilate(10,1,0)\n",
    "ImageMath.Erode(20,1,0)\n",
    "ImageMath.Dilate(11,1,0)\n",
    "im1BkgMask = ImageMath.GetOutput()"
   ]
  },
  {
   "cell_type": "code",
   "execution_count": 7,
   "metadata": {},
   "outputs": [],
   "source": [
    "itk.imwrite(im1BkgMask, OutputBaseName+'-BkgMask.mha')"
   ]
  },
  {
   "cell_type": "code",
   "execution_count": 17,
   "metadata": {
    "scrolled": true
   },
   "outputs": [],
   "source": [
    "ImageMath.SetInput(im1Iso)\n",
    "ImageMath.ReplaceValuesOutsideMaskRange(im1BkgMask,0,0,-1024)\n",
    "ImageMath.Threshold(-1023,-500,1,0)\n",
    "ImageMath.Dilate(5,1,0)\n",
    "ImageMath.Erode(10,1,0)\n",
    "ImageMath.Dilate(3,1,0)\n",
    "im1LungPlusMask = ImageMath.GetOutputUChar()\n",
    "\n",
    "ConnComp = tube.SegmentConnectedComponents.New(im1LungPlusMask)\n",
    "ConnComp.SetMinimumVolume(10000)\n",
    "ConnComp.Update()\n",
    "im1LungMask = ConnComp.GetOutput()"
   ]
  },
  {
   "cell_type": "code",
   "execution_count": 18,
   "metadata": {},
   "outputs": [],
   "source": [
    "itk.imwrite(im1LungMask, OutputBaseName+'-LungMask.mha')"
   ]
  },
  {
   "cell_type": "code",
   "execution_count": 19,
   "metadata": {},
   "outputs": [],
   "source": [
    "im1LungMask = itk.imread(OutputBaseName+'-LungMask.mha', itk.F) # Read into float array\n",
    "ImageMath.SetInput(im1Iso)\n",
    "ImageMath.ReplaceValuesOutsideMaskRange(im1LungMask,1,255,-1024)\n",
    "im1Lung = ImageMath.GetOutput()"
   ]
  },
  {
   "cell_type": "code",
   "execution_count": 20,
   "metadata": {},
   "outputs": [],
   "source": [
    "itk.imwrite(im1Lung, OutputBaseName+'-Lungs.mha')"
   ]
  },
  {
   "cell_type": "code",
   "execution_count": null,
   "metadata": {},
   "outputs": [],
   "source": []
  }
 ],
 "metadata": {
  "kernelspec": {
   "display_name": "Python 3 (ipykernel)",
   "language": "python",
   "name": "python3"
  },
  "language_info": {
   "codemirror_mode": {
    "name": "ipython",
    "version": 3
   },
   "file_extension": ".py",
   "mimetype": "text/x-python",
   "name": "python",
   "nbconvert_exporter": "python",
   "pygments_lexer": "ipython3",
   "version": "3.8.10"
  }
 },
 "nbformat": 4,
 "nbformat_minor": 2
}
