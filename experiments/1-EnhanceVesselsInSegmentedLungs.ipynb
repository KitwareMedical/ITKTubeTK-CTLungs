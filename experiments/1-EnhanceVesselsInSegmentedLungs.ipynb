{
 "cells": [
  {
   "cell_type": "code",
   "execution_count": 8,
   "metadata": {},
   "outputs": [],
   "source": [
    "import itk\n",
    "from itk import TubeTK as tube\n",
    "\n",
    "from itkwidgets import view\n",
    "\n",
    "import numpy as np"
   ]
  },
  {
   "cell_type": "code",
   "execution_count": 9,
   "metadata": {},
   "outputs": [],
   "source": [
    "InputFilename = \"../data/results/CT-Lungs.mha\"\n",
    "\n",
    "imLungs = itk.imread(InputFilename, itk.F)"
   ]
  },
  {
   "cell_type": "code",
   "execution_count": 15,
   "metadata": {
    "scrolled": true
   },
   "outputs": [
    {
     "name": "stdout",
     "output_type": "stream",
     "text": [
      "[[  62.91250461 -152.2656281    73.12804806]\n",
      " [ -64.3656224  -183.8968786   143.16867417]\n",
      " [ -71.14374751 -171.84687841  122.83429885]\n",
      " [ -59.09374732 -137.95625287   58.81867284]\n",
      " [ -77.1687476  -159.79687822   63.33742291]\n",
      " [  71.19687974 -143.98125297   43.00304759]\n",
      " [ -68.88437247 -131.17812777   43.00304759]\n",
      " [-118.59062326 -136.45000285  146.18117422]\n",
      " [ -99.00937295 -115.36250252  158.23117441]\n",
      " [ -97.50312293 -189.9218787    81.41242319]\n",
      " [ -89.97187281 -147.74687803   46.76867265]\n",
      " [ -47.79687214 -126.65937769   27.18742234]\n",
      " [ -74.15624756 -110.09062743  140.90929914]\n",
      " [ -86.20624775 -135.69687784   28.69367236]\n",
      " [-105.78749806 -159.04375321   72.37492305]]\n"
     ]
    }
   ],
   "source": [
    "ImageType = itk.Image[itk.F, 3]\n",
    "\n",
    "imMath = tube.ImageMath.New(imLungs)\n",
    "imMath.Blur(3)\n",
    "imBlur = imMath.GetOutput()\n",
    "imBlurArray = itk.GetArrayViewFromImage(imBlur)\n",
    "\n",
    "numSeeds = 15\n",
    "seedCoverage = 20\n",
    "seedCoord = np.zeros([numSeeds,3])\n",
    "for i in range(numSeeds):\n",
    "    seedCoord[i] = np.unravel_index(np.argmax(imBlurArray, axis=None), imBlurArray.shape)\n",
    "    indx = [int(seedCoord[i][0]),int(seedCoord[i][1]),int(seedCoord[i][2])]\n",
    "    minX = max(indx[0]-seedCoverage,0)\n",
    "    maxX = max(indx[0]+seedCoverage,imBlurArray.shape[0])\n",
    "    minY = max(indx[1]-seedCoverage,0)\n",
    "    maxY = max(indx[1]+seedCoverage,imBlurArray.shape[1])\n",
    "    minZ = max(indx[2]-seedCoverage,0)\n",
    "    maxZ = max(indx[2]+seedCoverage,imBlurArray.shape[2])\n",
    "    imBlurArray[minX:maxX,minY:maxY,minZ:maxZ]=-1024\n",
    "    indx.reverse()\n",
    "    seedCoord[:][i] = imLungs.TransformIndexToPhysicalPoint(indx)\n",
    "print(seedCoord)"
   ]
  },
  {
   "cell_type": "code",
   "execution_count": 20,
   "metadata": {},
   "outputs": [
    {
     "name": "stdout",
     "output_type": "stream",
     "text": [
      "**** Processing seed 0 : [  62.91250461 -152.2656281    73.12804806]\n",
      "**** Processing seed 1 : [ -64.3656224  -183.8968786   143.16867417]\n",
      "**** Processing seed 2 : [ -71.14374751 -171.84687841  122.83429885]\n",
      "**** Processing seed 3 : [ -59.09374732 -137.95625287   58.81867284]\n",
      "**** Processing seed 4 : [ -77.1687476  -159.79687822   63.33742291]\n",
      "**** Processing seed 5 : [  71.19687974 -143.98125297   43.00304759]\n",
      "**** Processing seed 6 : [ -68.88437247 -131.17812777   43.00304759]\n",
      "**** Processing seed 7 : [-118.59062326 -136.45000285  146.18117422]\n",
      "**** Processing seed 8 : [ -99.00937295 -115.36250252  158.23117441]\n",
      "**** Processing seed 9 : [ -97.50312293 -189.9218787    81.41242319]\n",
      "**** Processing seed 10 : [ -89.97187281 -147.74687803   46.76867265]\n",
      "**** Processing seed 11 : [ -47.79687214 -126.65937769   27.18742234]\n",
      "**** Processing seed 12 : [ -74.15624756 -110.09062743  140.90929914]\n",
      "**** Processing seed 13 : [ -86.20624775 -135.69687784   28.69367236]\n",
      "**** Processing seed 14 : [-105.78749806 -159.04375321   72.37492305]\n"
     ]
    }
   ],
   "source": [
    "# Manually extract a few vessels to form an image-specific training set\n",
    "vSeg = ttk.SegmentTubes.New(Input=imLungs)\n",
    "vSeg.SetVerbose(True)\n",
    "vSeg.SetMinRoundness(0.3)\n",
    "vSeg.SetMinCurvature(0.002)\n",
    "vSeg.SetRadiusInObjectSpace( 0.5 )\n",
    "for i in range(numSeeds):\n",
    "    print(\"**** Processing seed \" + str(i) + \" : \" + str(seedCoord[i]))\n",
    "    vSeg.ExtractTubeInObjectSpace( seedCoord[i], i )\n",
    "    \n",
    "tubeMaskImage = vSeg.GetTubeMaskImage()"
   ]
  },
  {
   "cell_type": "code",
   "execution_count": 21,
   "metadata": {},
   "outputs": [],
   "source": [
    "imMath.SetInput(tubeMaskImage)\n",
    "imMath.AddImages(imLungs, 200, 1)\n",
    "blendIm = imMath.GetOutput()\n",
    "\n",
    "itk.imwrite(blendIm, \"results/CT-Lungs-InitVess.mha\")"
   ]
  },
  {
   "cell_type": "code",
   "execution_count": 22,
   "metadata": {},
   "outputs": [],
   "source": [
    "LabelMapType = itk.Image[itk.UC,3]\n",
    "\n",
    "trMask = ttk.ComputeTrainingMask[ImageType,LabelMapType].New()\n",
    "trMask.SetInput( tubeMaskImage )\n",
    "trMask.SetGap( 4 )\n",
    "trMask.SetObjectWidth( 1 )\n",
    "trMask.SetNotObjectWidth( 1 )\n",
    "trMask.Update()\n",
    "fgMask = trMask.GetOutput()"
   ]
  },
  {
   "cell_type": "code",
   "execution_count": 24,
   "metadata": {},
   "outputs": [],
   "source": [
    "itk.imwrite(fgMask, \"results/CT-Lungs-\")"
   ]
  },
  {
   "cell_type": "code",
   "execution_count": 25,
   "metadata": {},
   "outputs": [],
   "source": [
    "enhancer = ttk.EnhanceTubesUsingDiscriminantAnalysis[ImageType,LabelMapType].New()\n",
    "enhancer.AddInput( imLungs )\n",
    "enhancer.SetLabelMap( fgMask )\n",
    "enhancer.SetRidgeId( 255 )\n",
    "enhancer.SetBackgroundId( 128 )\n",
    "enhancer.SetUnknownId( 0 )\n",
    "enhancer.SetTrainClassifier(True)\n",
    "enhancer.SetUseIntensityOnly(True)\n",
    "enhancer.SetScales([0.43,1.29,3.01])\n",
    "enhancer.Update()\n",
    "enhancer.ClassifyImages()"
   ]
  },
  {
   "cell_type": "code",
   "execution_count": 26,
   "metadata": {},
   "outputs": [],
   "source": [
    "im1vess = itk.SubtractImageFilter( Input1=enhancer.GetClassProbabilityImage(0), Input2=enhancer.GetClassProbabilityImage(1))\n",
    "\n",
    "imMath.SetInput(imLungs)\n",
    "imMath.Threshold(-1,0.00001,0,1)\n",
    "imMath.Erode(8,1,0)\n",
    "imMaskedE = imMath.GetOutput()\n",
    "\n",
    "imMath.SetInput(im1vess)\n",
    "imMath.ReplaceValuesOutsideMaskRange(imMaskedE, 1, 1, 0)\n",
    "im1vessMasked = imMath.GetOutput()"
   ]
  },
  {
   "cell_type": "code",
   "execution_count": 27,
   "metadata": {},
   "outputs": [],
   "source": [
    "itk.imwrite( im1vess, \"results/CT-Lungs-VesselEnhanced.mha\", compression=True)\n",
    "\n",
    "itk.imwrite( im1vessMasked, \"results/CT-Lungs-Masked-VesselEnhanced.mha\", compression=True)"
   ]
  },
  {
   "cell_type": "code",
   "execution_count": null,
   "metadata": {},
   "outputs": [],
   "source": []
  }
 ],
 "metadata": {
  "kernelspec": {
   "display_name": "Python 3 (ipykernel)",
   "language": "python",
   "name": "python3"
  },
  "language_info": {
   "codemirror_mode": {
    "name": "ipython",
    "version": 3
   },
   "file_extension": ".py",
   "mimetype": "text/x-python",
   "name": "python",
   "nbconvert_exporter": "python",
   "pygments_lexer": "ipython3",
   "version": "3.8.10"
  }
 },
 "nbformat": 4,
 "nbformat_minor": 2
}
