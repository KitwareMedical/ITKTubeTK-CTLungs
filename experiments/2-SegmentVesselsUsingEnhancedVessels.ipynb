{
 "cells": [
  {
   "cell_type": "markdown",
   "metadata": {},
   "source": [
    "This notebook is intended to demonstrate how vessel segmentation methods of ITKTubeTK can be applied to multi-channel MRI (MRA + T1, T2, etc)."
   ]
  },
  {
   "cell_type": "code",
   "execution_count": 3,
   "metadata": {},
   "outputs": [],
   "source": [
    "import itk\n",
    "from itk import TubeTK as ttk\n",
    "\n",
    "import numpy as np"
   ]
  },
  {
   "cell_type": "code",
   "execution_count": 4,
   "metadata": {},
   "outputs": [],
   "source": [
    "ImageType = itk.Image[itk.F, 3]\n",
    "im1iso = itk.imread(\"results/CT-Lungs.mha\")\n",
    "im1MaskedVess = itk.imread(\"results/CT-Lungs-Masked-VesselEnhanced.mha\")"
   ]
  },
  {
   "cell_type": "code",
   "execution_count": 5,
   "metadata": {},
   "outputs": [
    {
     "name": "stderr",
     "output_type": "stream",
     "text": [
      "itkImageF4 not loaded from module TubeTK because of exception:\n",
      " module 'itk.TubeTKPython' has no attribute 'itkImageF4'\n",
      "vectoritkImageF4 not loaded from module TubeTK because of exception:\n",
      " module 'itk.TubeTKPython' has no attribute 'vectoritkImageF4'\n"
     ]
    }
   ],
   "source": [
    "imMath = ttk.ImageMath.New(im1MaskedVess)\n",
    "imMath.MedianFilter(1)\n",
    "imMath.Threshold(0.000001, 1, 1, 0)\n",
    "im1VessMask = imMath.GetOutputShort()\n",
    "\n",
    "ccSeg = ttk.SegmentConnectedComponents.New(im1VessMask)\n",
    "ccSeg.SetMinimumVolume(10)\n",
    "ccSeg.Update()\n",
    "im1VessMaskCC = ccSeg.GetOutput()"
   ]
  },
  {
   "cell_type": "code",
   "execution_count": 8,
   "metadata": {},
   "outputs": [],
   "source": [
    "imMathSS = ttk.ImageMath.New(im1VessMaskCC)\n",
    "imMathSS.Threshold(0,0,1,0)\n",
    "im1VessMaskInv = imMathSS.GetOutputFloat()\n",
    "\n",
    "distFilter = itk.DanielssonDistanceMapImageFilter.New(im1VessMaskInv)\n",
    "distFilter.Update()\n",
    "dist = distFilter.GetOutput()\n",
    "\n",
    "imMath.SetInput(dist)\n",
    "imMath.Blur(0.4)\n",
    "tmp = imMath.GetOutput()\n",
    "imMath.ReplaceValuesOutsideMaskRange(tmp, 0.1, 10, 0)\n",
    "im1SeedRadius = imMath.GetOutput()\n",
    "\n",
    "itk.imwrite(im1SeedRadius, \"results/Lungs-VesselsSeedRadius.mha\")"
   ]
  },
  {
   "cell_type": "code",
   "execution_count": 10,
   "metadata": {
    "scrolled": true
   },
   "outputs": [
    {
     "data": {
      "application/javascript": [
       "window.connectPlugin && window.connectPlugin(\"5ac3d9c5-2f46-4fed-a2d9-0280c17923e2\")"
      ],
      "text/plain": [
       "<IPython.core.display.Javascript object>"
      ]
     },
     "metadata": {},
     "output_type": "display_data"
    },
    {
     "data": {
      "text/html": [
       "<div id=\"3d54d5cd-2bcc-4261-9f90-a85dda492c28\"></div>"
      ],
      "text/plain": [
       "<IPython.core.display.HTML object>"
      ]
     },
     "metadata": {},
     "output_type": "display_data"
    },
    {
     "data": {
      "text/plain": [
       "<itkwidgets.viewer.Viewer at 0x212f4331340>"
      ]
     },
     "execution_count": 10,
     "metadata": {},
     "output_type": "execute_result"
    }
   ],
   "source": [
    "imMath.SetInput(im1iso)\n",
    "imMath.ReplaceValuesOutsideMaskRange(im1MaskedVess, 0, 1000, 0)\n",
    "imMath.Blur(0.4)\n",
    "imMath.IntensityWindow(0.5,1000,0,1000)\n",
    "im1Input = imMath.GetOutput()\n",
    "\n",
    "itk.imwrite(im1iso, \"results/Lungs-VesselsInput.mha\")"
   ]
  },
  {
   "cell_type": "code",
   "execution_count": null,
   "metadata": {},
   "outputs": [],
   "source": [
    "numSeeds = 40\n",
    "\n",
    "vSeg = ttk.SegmentTubes.New(Input=im1Input)\n",
    "#vSeg.SetVerbose(True)\n",
    "vSeg.SetMinCurvature(0)#.0001)\n",
    "vSeg.SetMinRoundness(0.02)\n",
    "vSeg.SetMinRidgeness(0.5)\n",
    "vSeg.SetMinLevelness(0.0)\n",
    "vSeg.SetRadiusInObjectSpace( 0.5 )\n",
    "vSeg.SetBorderInIndexSpace(3)\n",
    "vSeg.SetSeedMask( im1SeedRadius )\n",
    "vSeg.SetSeedRadiusMask( im1SeedRadius )\n",
    "vSeg.SetOptimizeRadius(False)\n",
    "vSeg.SetUseSeedMaskAsProbabilities(True)\n",
    "vSeg.SetSeedExtractionMinimumProbability(0.6)\n",
    "#vSeg.SetSeedMaskMaximumNumberOfPoints( numSeeds )\n",
    "vSeg.ProcessSeeds()"
   ]
  },
  {
   "cell_type": "code",
   "execution_count": 13,
   "metadata": {
    "scrolled": false
   },
   "outputs": [
    {
     "data": {
      "application/vnd.jupyter.widget-view+json": {
       "model_id": "1e532fac13aa4c6c83e5214117700d0a",
       "version_major": 2,
       "version_minor": 0
      },
      "text/plain": [
       "Viewer(geometries=[], gradient_opacity=0.22, point_sets=[], rendered_image=<itk.itkImagePython.itkImageF3; pro…"
      ]
     },
     "metadata": {},
     "output_type": "display_data"
    }
   ],
   "source": [
    "tubeMaskImage = vSeg.GetTubeMaskImage()"
   ]
  },
  {
   "cell_type": "code",
   "execution_count": 14,
   "metadata": {},
   "outputs": [],
   "source": [
    "SOWriter = itk.SpatialObjectWriter[3].New()\n",
    "SOWriter.SetInput(vSeg.GetTubeGroup())\n",
    "SOWriter.SetBinaryPoints(True)\n",
    "SOWriter.SetFileName( \"results/Lungs-Vessels.tre\" )\n",
    "SOWriter.Update()"
   ]
  },
  {
   "cell_type": "code",
   "execution_count": null,
   "metadata": {},
   "outputs": [],
   "source": []
  }
 ],
 "metadata": {
  "kernelspec": {
   "display_name": "Python 3 (ipykernel)",
   "language": "python",
   "name": "python3"
  },
  "language_info": {
   "codemirror_mode": {
    "name": "ipython",
    "version": 3
   },
   "file_extension": ".py",
   "mimetype": "text/x-python",
   "name": "python",
   "nbconvert_exporter": "python",
   "pygments_lexer": "ipython3",
   "version": "3.8.10"
  }
 },
 "nbformat": 4,
 "nbformat_minor": 2
}
